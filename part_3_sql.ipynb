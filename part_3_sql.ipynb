{
 "cells": [
  {
   "cell_type": "markdown",
   "metadata": {},
   "source": [
    "### PART 3: SQL"
   ]
  },
  {
   "cell_type": "code",
   "execution_count": 1,
   "metadata": {},
   "outputs": [],
   "source": [
    "# import libraries\n",
    "\n",
    "import pandas as pd\n",
    "pd.set_option('display.max_rows', 30)\n",
    "pd.set_option('display.max_columns', 30)\n",
    "\n",
    "import sqlite3"
   ]
  },
  {
   "cell_type": "markdown",
   "metadata": {},
   "source": [
    "Part 3: SQL\n",
    "Assume we are using these two tables:\n",
    "customers table:\n",
    "customer_nbr customer_name\n",
    "------------ --------------\n",
    "1 Jim Brown\n",
    "2 Jeff Gordon\n",
    "3 Peter Green\n",
    "4 Julie Peters\n",
    "orders table:\n",
    "order_nbr order_date customer_nbr order_amt\n",
    "----------- ---------- ------------ ----------\n",
    "1 2008-10-01 1 15.50\n",
    "2 2008-12-15 2 25.00\n",
    "3 2009-01-02 1 18.00\n",
    "4 2009-02-20 3 10.25\n",
    "5 2009-03-05 1 30.00\n",
    "What are the problem(s) with this SQL query?\n",
    "SELECT\n",
    "customers.customer_name,\n",
    "SUM(COALESCE(orders.order_amt, 0)) AS total_2009\n",
    "FROM\n",
    "customers\n",
    "LEFT OUTER JOIN orders ON (\n",
    "customers.customer_nbr = orders.customer_nbr\n",
    ")\n",
    "WHERE\n",
    "orders.order_date >= ‘20090101’\n",
    "GROUP BY\n",
    "customers.customer_name"
   ]
  },
  {
   "cell_type": "code",
   "execution_count": 2,
   "metadata": {},
   "outputs": [],
   "source": [
    "# import csv\n",
    "cust_df = pd.read_csv('question_3_cust_table.csv')\n",
    "orders_df = pd.read_csv('question_3_order_table.csv')"
   ]
  },
  {
   "cell_type": "code",
   "execution_count": 3,
   "metadata": {},
   "outputs": [],
   "source": [
    "# connect to database\n",
    "conn = sqlite3.connect(':memory:')\n",
    "\n",
    "# create cursor object\n",
    "cur = conn.cursor()"
   ]
  },
  {
   "cell_type": "code",
   "execution_count": 4,
   "metadata": {},
   "outputs": [],
   "source": [
    "# write records stored in the dataframe to SQL database\n",
    "cust_df.to_sql('customers', con = conn, if_exists='append', index=False)\n",
    "orders_df.to_sql('orders', con = conn, if_exists='append', index=False)"
   ]
  },
  {
   "cell_type": "code",
   "execution_count": 5,
   "metadata": {},
   "outputs": [
    {
     "data": {
      "text/html": [
       "<div>\n",
       "<style scoped>\n",
       "    .dataframe tbody tr th:only-of-type {\n",
       "        vertical-align: middle;\n",
       "    }\n",
       "\n",
       "    .dataframe tbody tr th {\n",
       "        vertical-align: top;\n",
       "    }\n",
       "\n",
       "    .dataframe thead th {\n",
       "        text-align: right;\n",
       "    }\n",
       "</style>\n",
       "<table border=\"1\" class=\"dataframe\">\n",
       "  <thead>\n",
       "    <tr style=\"text-align: right;\">\n",
       "      <th></th>\n",
       "      <th>customer_nbr</th>\n",
       "      <th>customer_name</th>\n",
       "    </tr>\n",
       "  </thead>\n",
       "  <tbody>\n",
       "    <tr>\n",
       "      <td>0</td>\n",
       "      <td>1</td>\n",
       "      <td>Jim Brown</td>\n",
       "    </tr>\n",
       "    <tr>\n",
       "      <td>1</td>\n",
       "      <td>2</td>\n",
       "      <td>Jeff Gordon</td>\n",
       "    </tr>\n",
       "    <tr>\n",
       "      <td>2</td>\n",
       "      <td>3</td>\n",
       "      <td>Peter Green</td>\n",
       "    </tr>\n",
       "    <tr>\n",
       "      <td>3</td>\n",
       "      <td>4</td>\n",
       "      <td>Julie Peters</td>\n",
       "    </tr>\n",
       "  </tbody>\n",
       "</table>\n",
       "</div>"
      ],
      "text/plain": [
       "   customer_nbr customer_name\n",
       "0             1     Jim Brown\n",
       "1             2   Jeff Gordon\n",
       "2             3   Peter Green\n",
       "3             4  Julie Peters"
      ]
     },
     "execution_count": 5,
     "metadata": {},
     "output_type": "execute_result"
    }
   ],
   "source": [
    "# SQL query to preview table\n",
    "\n",
    "cur.execute('''SELECT *\n",
    "               FROM customers''')                             # sql query\n",
    "cust_df = pd.DataFrame(cur.fetchall())                      # create dataframe from sql query\n",
    "cust_df.columns = [x[0] for x in cur.description]           # labels dataframe columns\n",
    "cust_df.head()                                                     # view dataframe"
   ]
  },
  {
   "cell_type": "code",
   "execution_count": 6,
   "metadata": {
    "scrolled": true
   },
   "outputs": [
    {
     "data": {
      "text/html": [
       "<div>\n",
       "<style scoped>\n",
       "    .dataframe tbody tr th:only-of-type {\n",
       "        vertical-align: middle;\n",
       "    }\n",
       "\n",
       "    .dataframe tbody tr th {\n",
       "        vertical-align: top;\n",
       "    }\n",
       "\n",
       "    .dataframe thead th {\n",
       "        text-align: right;\n",
       "    }\n",
       "</style>\n",
       "<table border=\"1\" class=\"dataframe\">\n",
       "  <thead>\n",
       "    <tr style=\"text-align: right;\">\n",
       "      <th></th>\n",
       "      <th>order_nbr</th>\n",
       "      <th>order_date</th>\n",
       "      <th>customer_nbr</th>\n",
       "      <th>order_amt</th>\n",
       "    </tr>\n",
       "  </thead>\n",
       "  <tbody>\n",
       "    <tr>\n",
       "      <td>0</td>\n",
       "      <td>1</td>\n",
       "      <td>2008-10-01</td>\n",
       "      <td>1</td>\n",
       "      <td>15.50</td>\n",
       "    </tr>\n",
       "    <tr>\n",
       "      <td>1</td>\n",
       "      <td>2</td>\n",
       "      <td>2008-12-15</td>\n",
       "      <td>2</td>\n",
       "      <td>25.00</td>\n",
       "    </tr>\n",
       "    <tr>\n",
       "      <td>2</td>\n",
       "      <td>3</td>\n",
       "      <td>2009-01-02</td>\n",
       "      <td>1</td>\n",
       "      <td>18.00</td>\n",
       "    </tr>\n",
       "    <tr>\n",
       "      <td>3</td>\n",
       "      <td>4</td>\n",
       "      <td>2009-02-20</td>\n",
       "      <td>3</td>\n",
       "      <td>10.25</td>\n",
       "    </tr>\n",
       "    <tr>\n",
       "      <td>4</td>\n",
       "      <td>5</td>\n",
       "      <td>2009-03-02</td>\n",
       "      <td>1</td>\n",
       "      <td>30.00</td>\n",
       "    </tr>\n",
       "  </tbody>\n",
       "</table>\n",
       "</div>"
      ],
      "text/plain": [
       "   order_nbr  order_date  customer_nbr  order_amt\n",
       "0          1  2008-10-01             1      15.50\n",
       "1          2  2008-12-15             2      25.00\n",
       "2          3  2009-01-02             1      18.00\n",
       "3          4  2009-02-20             3      10.25\n",
       "4          5  2009-03-02             1      30.00"
      ]
     },
     "execution_count": 6,
     "metadata": {},
     "output_type": "execute_result"
    }
   ],
   "source": [
    "# SQL query to preview table\n",
    "\n",
    "cur.execute('''SELECT *\n",
    "               FROM orders''')                             # sql query\n",
    "ord_df = pd.DataFrame(cur.fetchall())                      # create dataframe from sql query\n",
    "ord_df.columns = [x[0] for x in cur.description]           # labels dataframe columns\n",
    "ord_df.head()                                                     # view dataframe"
   ]
  },
  {
   "cell_type": "code",
   "execution_count": null,
   "metadata": {},
   "outputs": [],
   "source": [
    "# incorrect SQL query \n",
    "cur.execute('''SELECT customers.customer_name,\n",
    "                      SUM(COALESCE(orders.order_amt, 0)) AS total_2009\n",
    "               FROM   customers\n",
    "               LEFT OUTER JOIN orders ON (customers.customer_nbr = orders.customer_nbr)\n",
    "               WHERE orders.order_date >= '20090101'\n",
    "               GROUP BY customers.customer_name''')                             # sql query\n",
    "query = pd.DataFrame(cur.fetchall())                      # create dataframe from sql query\n",
    "query.columns = [x[0] for x in cur.description]           # labels dataframe columns\n",
    "query.head()                                                     # view datafram"
   ]
  },
  {
   "cell_type": "code",
   "execution_count": 7,
   "metadata": {},
   "outputs": [
    {
     "data": {
      "text/html": [
       "<div>\n",
       "<style scoped>\n",
       "    .dataframe tbody tr th:only-of-type {\n",
       "        vertical-align: middle;\n",
       "    }\n",
       "\n",
       "    .dataframe tbody tr th {\n",
       "        vertical-align: top;\n",
       "    }\n",
       "\n",
       "    .dataframe thead th {\n",
       "        text-align: right;\n",
       "    }\n",
       "</style>\n",
       "<table border=\"1\" class=\"dataframe\">\n",
       "  <thead>\n",
       "    <tr style=\"text-align: right;\">\n",
       "      <th></th>\n",
       "      <th>customer_name</th>\n",
       "      <th>total_2009</th>\n",
       "    </tr>\n",
       "  </thead>\n",
       "  <tbody>\n",
       "    <tr>\n",
       "      <td>0</td>\n",
       "      <td>Jim Brown</td>\n",
       "      <td>48.00</td>\n",
       "    </tr>\n",
       "    <tr>\n",
       "      <td>1</td>\n",
       "      <td>Peter Green</td>\n",
       "      <td>10.25</td>\n",
       "    </tr>\n",
       "  </tbody>\n",
       "</table>\n",
       "</div>"
      ],
      "text/plain": [
       "  customer_name  total_2009\n",
       "0     Jim Brown       48.00\n",
       "1   Peter Green       10.25"
      ]
     },
     "execution_count": 7,
     "metadata": {},
     "output_type": "execute_result"
    }
   ],
   "source": [
    "# SQL query \n",
    "cur.execute('''SELECT customers.customer_name,\n",
    "                      SUM(COALESCE(orders.order_amt, 0)) AS total_2009\n",
    "               FROM   customers\n",
    "               LEFT OUTER JOIN orders ON (customers.customer_nbr = orders.customer_nbr)\n",
    "               WHERE orders.order_date >= '2009-01-01'\n",
    "               GROUP BY customers.customer_name''')                             # sql query\n",
    "query = pd.DataFrame(cur.fetchall())                      # create dataframe from sql query\n",
    "query.columns = [x[0] for x in cur.description]           # labels dataframe columns\n",
    "query.head()                                                     # view datafram"
   ]
  },
  {
   "cell_type": "code",
   "execution_count": 8,
   "metadata": {},
   "outputs": [
    {
     "data": {
      "text/html": [
       "<div>\n",
       "<style scoped>\n",
       "    .dataframe tbody tr th:only-of-type {\n",
       "        vertical-align: middle;\n",
       "    }\n",
       "\n",
       "    .dataframe tbody tr th {\n",
       "        vertical-align: top;\n",
       "    }\n",
       "\n",
       "    .dataframe thead th {\n",
       "        text-align: right;\n",
       "    }\n",
       "</style>\n",
       "<table border=\"1\" class=\"dataframe\">\n",
       "  <thead>\n",
       "    <tr style=\"text-align: right;\">\n",
       "      <th></th>\n",
       "      <th>customer_name</th>\n",
       "      <th>total_2009</th>\n",
       "    </tr>\n",
       "  </thead>\n",
       "  <tbody>\n",
       "    <tr>\n",
       "      <td>0</td>\n",
       "      <td>Jim Brown</td>\n",
       "      <td>48.00</td>\n",
       "    </tr>\n",
       "    <tr>\n",
       "      <td>1</td>\n",
       "      <td>Peter Green</td>\n",
       "      <td>10.25</td>\n",
       "    </tr>\n",
       "  </tbody>\n",
       "</table>\n",
       "</div>"
      ],
      "text/plain": [
       "  customer_name  total_2009\n",
       "0     Jim Brown       48.00\n",
       "1   Peter Green       10.25"
      ]
     },
     "execution_count": 8,
     "metadata": {},
     "output_type": "execute_result"
    }
   ],
   "source": [
    "# SQL query \n",
    "cur.execute('''SELECT customers.customer_name,\n",
    "                      SUM(orders.order_amt) AS total_2009\n",
    "               FROM   customers\n",
    "               LEFT OUTER JOIN orders ON (customers.customer_nbr = orders.customer_nbr)\n",
    "               WHERE orders.order_date >= '2009-01-01'\n",
    "               GROUP BY customers.customer_name''')                             # sql query\n",
    "query = pd.DataFrame(cur.fetchall())                      # create dataframe from sql query\n",
    "query.columns = [x[0] for x in cur.description]           # labels dataframe columns\n",
    "query.head()                                                     # view datafram"
   ]
  },
  {
   "cell_type": "code",
   "execution_count": null,
   "metadata": {},
   "outputs": [],
   "source": [
    "# date needs to be converted/correctly inputted\n",
    "# for these tables, coalesce is used when null vaues are present and there aren't any null values\n",
    "# in these tables, so coalesce may not be neccessary"
   ]
  },
  {
   "cell_type": "code",
   "execution_count": null,
   "metadata": {},
   "outputs": [],
   "source": []
  }
 ],
 "metadata": {
  "kernelspec": {
   "display_name": "Python 3",
   "language": "python",
   "name": "python3"
  },
  "language_info": {
   "codemirror_mode": {
    "name": "ipython",
    "version": 3
   },
   "file_extension": ".py",
   "mimetype": "text/x-python",
   "name": "python",
   "nbconvert_exporter": "python",
   "pygments_lexer": "ipython3",
   "version": "3.7.4"
  }
 },
 "nbformat": 4,
 "nbformat_minor": 2
}
